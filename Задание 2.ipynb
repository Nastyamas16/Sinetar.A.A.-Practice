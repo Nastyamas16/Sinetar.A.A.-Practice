{
 "cells": [
  {
   "cell_type": "code",
   "execution_count": 6,
   "id": "75874c38",
   "metadata": {},
   "outputs": [],
   "source": [
    "import numpy as np\n",
    "import math\n",
    "import matplotlib.pyplot as plt\n",
    "import pandas as pd\n",
    "import scipy.special as sp\n",
    "from decimal import Decimal"
   ]
  },
  {
   "cell_type": "code",
   "execution_count": 7,
   "id": "5b8794d3",
   "metadata": {},
   "outputs": [],
   "source": [
    "def sum_lst(x):\n",
    "\n",
    "    coefficient = 1.0\n",
    "    coefficients = []\n",
    "    gamma = 0.5772156649\n",
    "    summ1 = gamma + math.log(math.log(x))\n",
    "    summ2 = gamma + math.log(math.log(x))\n",
    "    n = 0\n",
    "    while n < 100:\n",
    "        n += 1\n",
    "        if n == 1:\n",
    "            coefficient *= math.log(x)\n",
    "            coefficients.append(coefficient)\n",
    "        else:\n",
    "            coefficient *= ((n-1)*math.log(x))/(n**2)\n",
    "            coefficients.append(coefficient)\n",
    "\n",
    "    for i in range(n):\n",
    "        summ1 += (coefficients[i])\n",
    "\n",
    "    kahan_sum = 0\n",
    "    c = 0\n",
    "    for i in range(n):\n",
    "        y = coefficients[i] - c\n",
    "        t = kahan_sum + y\n",
    "        z = t - kahan_sum\n",
    "        c = z - y\n",
    "        kahan_sum = t\n",
    "\n",
    "    summ2 += kahan_sum\n",
    "\n",
    "    res = ['{:.15f}'.format(x),\n",
    "           '{:.15f}'.format(summ1), '{:.15f}'.format(summ2)]\n",
    "    return res\n"
   ]
  },
  {
   "cell_type": "code",
   "execution_count": 8,
   "id": "ae15bbb4",
   "metadata": {},
   "outputs": [],
   "source": [
    "a = 5\n",
    "b = 10\n",
    "data = pd.DataFrame(columns=['x_i', 'sum1', 'sum2'])\n",
    "\n",
    "\n",
    "delta = (b-a)/100\n",
    "\n",
    "t = a\n",
    "while t <= b:\n",
    "    data.loc[len(data.index)] = sum_lst(t)\n",
    "    t += delta"
   ]
  },
  {
   "cell_type": "code",
   "execution_count": 9,
   "id": "5673c20e",
   "metadata": {},
   "outputs": [],
   "source": [
    "data['x_i'] = data['x_i'].astype(float)\n",
    "data['sum1'] = data['sum1'].astype(float)\n",
    "data['sum2'] = data['sum2'].astype(float)\n",
    "data.to_csv('result1.csv')"
   ]
  }
 ],
 "metadata": {
  "kernelspec": {
   "display_name": "Python 3 (ipykernel)",
   "language": "python",
   "name": "python3"
  },
  "language_info": {
   "codemirror_mode": {
    "name": "ipython",
    "version": 3
   },
   "file_extension": ".py",
   "mimetype": "text/x-python",
   "name": "python",
   "nbconvert_exporter": "python",
   "pygments_lexer": "ipython3",
   "version": "3.10.9"
  }
 },
 "nbformat": 4,
 "nbformat_minor": 5
}
