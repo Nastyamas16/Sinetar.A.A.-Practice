{
 "cells": [
  {
   "cell_type": "code",
   "execution_count": 1,
   "id": "ece8b7cd",
   "metadata": {},
   "outputs": [],
   "source": [
    "import numpy as np\n",
    "import math\n",
    "import matplotlib.pyplot as plt\n",
    "import pandas as pd\n",
    "import scipy.special as sp\n",
    "from decimal import Decimal"
   ]
  },
  {
   "cell_type": "markdown",
   "id": "0f511ec4",
   "metadata": {},
   "source": [
    "# Первая заданная точка x = $\\sqrt{\\pi/2}$\n",
    "n=6"
   ]
  },
  {
   "cell_type": "code",
   "execution_count": 2,
   "id": "df35deb3",
   "metadata": {},
   "outputs": [
    {
     "name": "stdout",
     "output_type": "stream",
     "text": [
      "-3.5988432352120776e-06\n",
      "6\n"
     ]
    }
   ],
   "source": [
    "refer = 1\n",
    "\n",
    "def factorial(n):\n",
    "    f=1\n",
    "    for i in range(2, n+1):\n",
    "        f=f*i\n",
    "    return f\n",
    "x =  (math.pi/2)**0.5\n",
    "coef = []\n",
    "sum = 1\n",
    "n = 0\n",
    "while abs(sum) >= math.e**(-12):\n",
    "    sum = (-1)**n*x**(4*n+2)/(factorial(2*n+1))\n",
    "    coef.append(sum)\n",
    "    n+=1\n",
    "print(sum)\n",
    "print(n)"
   ]
  },
  {
   "cell_type": "markdown",
   "id": "f939d9d6",
   "metadata": {},
   "source": [
    "# \"Наивное\" суммирование"
   ]
  },
  {
   "cell_type": "code",
   "execution_count": 3,
   "id": "a67034da",
   "metadata": {},
   "outputs": [
    {
     "name": "stdout",
     "output_type": "stream",
     "text": [
      "0.999999943741051 -5.625894905492146e-08\n"
     ]
    }
   ],
   "source": [
    "refer= 1\n",
    "sm1= 0\n",
    "for i in range(n):\n",
    "    sm1+=coef[i]\n",
    "print(sm1, sm1-refer)"
   ]
  },
  {
   "cell_type": "markdown",
   "id": "9a9d9689",
   "metadata": {},
   "source": [
    "# Суммирование в порядке возрастания слагаемых"
   ]
  },
  {
   "cell_type": "code",
   "execution_count": 4,
   "id": "d8fcbcab",
   "metadata": {},
   "outputs": [
    {
     "name": "stdout",
     "output_type": "stream",
     "text": [
      "0.999999943741051 -5.625894905492146e-08\n"
     ]
    }
   ],
   "source": [
    "coef.sort()\n",
    "sm2=0\n",
    "for i in range(n):\n",
    "    sm2+=coef[i]\n",
    "print(sm2, sm2-refer)"
   ]
  },
  {
   "cell_type": "markdown",
   "id": "07dbde23",
   "metadata": {},
   "source": [
    "# Алгоритм суммирования по Кэхену"
   ]
  },
  {
   "cell_type": "code",
   "execution_count": 5,
   "id": "3ca3ad29",
   "metadata": {},
   "outputs": [
    {
     "name": "stdout",
     "output_type": "stream",
     "text": [
      "0.999999943741051 -5.625894905492146e-08\n"
     ]
    }
   ],
   "source": [
    "kahan_sum = 0\n",
    "c=0\n",
    "for i in range(n):\n",
    "    y = coef[i]-c\n",
    "    t = kahan_sum + y\n",
    "    z = t - kahan_sum\n",
    "    c = z - y\n",
    "    kahan_sum = t\n",
    "print(kahan_sum, kahan_sum-refer)"
   ]
  },
  {
   "cell_type": "markdown",
   "id": "dc5d56d7",
   "metadata": {},
   "source": [
    "# Вторая заданная точка: x =  $\\sqrt{13\\pi/2}$"
   ]
  },
  {
   "cell_type": "markdown",
   "id": "6569ee97",
   "metadata": {},
   "source": [
    "n=33"
   ]
  },
  {
   "cell_type": "code",
   "execution_count": 6,
   "id": "fbc08e56",
   "metadata": {},
   "outputs": [
    {
     "name": "stdout",
     "output_type": "stream",
     "text": [
      "1.7289389285465315e-06\n",
      "33\n"
     ]
    }
   ],
   "source": [
    "x1 = (13*math.pi/2)**0.5\n",
    "coef1 = []\n",
    "summ = 1\n",
    "n1 = 0\n",
    "while abs(summ) >= math.e**(-12):\n",
    "    summ = (-1)**n1*x1**(4*n1+2)/factorial(2*n1+1)\n",
    "    coef1.append(summ)\n",
    "    n1+=1\n",
    "print(summ)\n",
    "print(n1)"
   ]
  },
  {
   "cell_type": "markdown",
   "id": "9003486d",
   "metadata": {},
   "source": [
    "# \"Наивное\" суммирование"
   ]
  },
  {
   "cell_type": "code",
   "execution_count": 7,
   "id": "54171462",
   "metadata": {},
   "outputs": [
    {
     "name": "stdout",
     "output_type": "stream",
     "text": [
      "1.000000161799035 1.6179903505886273e-07\n"
     ]
    }
   ],
   "source": [
    "sm1 = 0\n",
    "for i in range(n1):\n",
    "    sm1+=coef1[i]\n",
    "print(sm1, sm1-refer)"
   ]
  },
  {
   "cell_type": "markdown",
   "id": "db85960b",
   "metadata": {},
   "source": [
    "# Суммирование в порядке возрастания слагаемых"
   ]
  },
  {
   "cell_type": "code",
   "execution_count": 8,
   "id": "c09e6a3f",
   "metadata": {},
   "outputs": [
    {
     "name": "stdout",
     "output_type": "stream",
     "text": [
      "1.0000000894069672 8.940696716308594e-08\n"
     ]
    }
   ],
   "source": [
    "coef1.sort()\n",
    "sm2 = 0\n",
    "for i in range(n1):\n",
    "    sm2+=coef1[i]\n",
    "print(sm2, sm2-refer)"
   ]
  },
  {
   "cell_type": "markdown",
   "id": "0f5f1e07",
   "metadata": {},
   "source": [
    "# Алгоритм суммирования по Кэхену"
   ]
  },
  {
   "cell_type": "code",
   "execution_count": 9,
   "id": "13a617c9",
   "metadata": {},
   "outputs": [
    {
     "name": "stdout",
     "output_type": "stream",
     "text": [
      "1.0000001639127731 1.6391277313232422e-07\n"
     ]
    }
   ],
   "source": [
    "kahan_sum1 = 0\n",
    "c1 = 0\n",
    "for i in range(n1):\n",
    "    y1 = coef1[i]-c1\n",
    "    t1 = kahan_sum1 + y1\n",
    "    z1 = t1 - kahan_sum1\n",
    "    c1 = z1 - y1\n",
    "    kahan_sum1 = t1\n",
    "print(kahan_sum1, kahan_sum1-refer)"
   ]
  }
 ],
 "metadata": {
  "kernelspec": {
   "display_name": "Python 3 (ipykernel)",
   "language": "python",
   "name": "python3"
  },
  "language_info": {
   "codemirror_mode": {
    "name": "ipython",
    "version": 3
   },
   "file_extension": ".py",
   "mimetype": "text/x-python",
   "name": "python",
   "nbconvert_exporter": "python",
   "pygments_lexer": "ipython3",
   "version": "3.10.9"
  }
 },
 "nbformat": 4,
 "nbformat_minor": 5
}
